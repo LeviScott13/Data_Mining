{
 "cells": [
  {
   "cell_type": "code",
   "execution_count": 1,
   "metadata": {},
   "outputs": [],
   "source": [
    "import pandas as pd\n",
    "from sklearn.tree import DecisionTreeClassifier\n",
    "from sklearn.naive_bayes import GaussianNB\n",
    "from sklearn import svm\n",
    "from sklearn.neural_network import MLPClassifier as mlp\n",
    "from sklearn.model_selection import train_test_split\n",
    "from sklearn import metrics\n",
    "\n",
    "import matplotlib.pyplot as plot\n",
    "import warnings\n",
    "warnings.filterwarnings('always')"
   ]
  },
  {
   "cell_type": "code",
   "execution_count": 2,
   "metadata": {},
   "outputs": [],
   "source": [
    "l_ecoli_rec = [\"Data\"]\n",
    "l_ecoli_attr = [\"SeqN\",\"mcg\",\"gvh\",\"lip\",\"chg\",\"aac\",\"alm2\",\"alm1\",\"class\"]\n",
    "l_ecoli_feat = [\"SeqN\",\"mcg\",\"gvh\",\"lip\",\"chg\",\"aac\",\"alm2\",\"alm1\"]\n",
    "l_ecoli_class = [\"class\"]"
   ]
  },
  {
   "cell_type": "code",
   "execution_count": 3,
   "metadata": {},
   "outputs": [],
   "source": [
    "def read_file():\n",
    "    df_ecoli = pd.read_csv(r\"C:\\Users\\Levi\\Documents\\Computer Science\\_School\\Data Mining\\HW2\\ecoli.csv\", header=None,names=l_ecoli_rec)\n",
    "    df_attr = pd.DataFrame()\n",
    "    df_attr = df_ecoli.Data.str.split(expand=True)\n",
    "    df_attr.columns = l_ecoli_attr\n",
    "    \n",
    "    print(\"All the Attributes\")\n",
    "    print(\"Attributes for classification\")\n",
    "    print(df_attr.head())\n",
    "    print(\"Attributes for classification\")\n",
    "    print((df_attr.iloc[:,1:7]).head())\n",
    "    return df_attr"
   ]
  },
  {
   "cell_type": "code",
   "execution_count": 4,
   "metadata": {},
   "outputs": [
    {
     "name": "stdout",
     "output_type": "stream",
     "text": [
      "All the Attributes\n",
      "Attributes for classification\n",
      "         SeqN   mcg   gvh   lip   chg   aac  alm2  alm1 class\n",
      "0   AAT_ECOLI  0.49  0.29  0.48  0.50  0.56  0.24  0.35    cp\n",
      "1  ACEA_ECOLI  0.07  0.40  0.48  0.50  0.54  0.35  0.44    cp\n",
      "2  ACEK_ECOLI  0.56  0.40  0.48  0.50  0.49  0.37  0.46    cp\n",
      "3  ACKA_ECOLI  0.59  0.49  0.48  0.50  0.52  0.45  0.36    cp\n",
      "4   ADI_ECOLI  0.23  0.32  0.48  0.50  0.55  0.25  0.35    cp\n",
      "Attributes for classification\n",
      "    mcg   gvh   lip   chg   aac  alm2\n",
      "0  0.49  0.29  0.48  0.50  0.56  0.24\n",
      "1  0.07  0.40  0.48  0.50  0.54  0.35\n",
      "2  0.56  0.40  0.48  0.50  0.49  0.37\n",
      "3  0.59  0.49  0.48  0.50  0.52  0.45\n",
      "4  0.23  0.32  0.48  0.50  0.55  0.25\n",
      "Confusion Matrix\n",
      "[[29  1  0  0  0  2]\n",
      " [ 0 12  1  1  0  0]\n",
      " [ 0  0  0  0  0  0]\n",
      " [ 0  1  0  5  0  0]\n",
      " [ 0  0  0  0  2  0]\n",
      " [ 1  1  0  0  0 12]]\n",
      "Confusion Matrix\n",
      "[[31  0  0  0  0  1]\n",
      " [ 0  8  2  2  0  2]\n",
      " [ 0  0  0  0  0  0]\n",
      " [ 0  1  0  4  0  1]\n",
      " [ 0  0  0  0  0  2]\n",
      " [ 1  0  0  0  0 13]]\n",
      "Confusion Matrix\n",
      "[[31  0  0  0  1]\n",
      " [ 0 10  4  0  0]\n",
      " [ 0  2  4  0  0]\n",
      " [ 0  0  0  2  0]\n",
      " [ 1  0  0  0 13]]\n",
      "Confusion Matrix\n",
      "[[31  0  0  0  1]\n",
      " [ 0 14  0  0  0]\n",
      " [ 0  6  0  0  0]\n",
      " [ 1  0  0  0  1]\n",
      " [ 3  0  0  0 11]]\n",
      "Accuracy for Decision Tree\n",
      "0.8823529411764706\n",
      "Accuracy for Naive Bayes\n",
      "0.8235294117647058\n",
      "Accuracy for Neural Network\n",
      "0.8823529411764706\n",
      "Accuracy for SVM\n",
      "0.8235294117647058\n",
      "\n",
      "Precision for Decision Tree\n",
      "0.7428571428571429\n",
      "Precision for Naive Bayes\n",
      "0.5347526803118908\n",
      "Precision for Neural Network\n",
      "0.8461309523809524\n",
      "Precision for SVM\n",
      "0.48637362637362636\n",
      "Recall for Decision Tree\n",
      "0.7423115079365079\n",
      "Recall for Naive Bayes\n",
      "0.5225694444444445\n",
      "Recall for Neural Network\n",
      "0.8556547619047619\n",
      "Recall for SVM\n",
      "0.5508928571428571\n",
      "Bar Graph for Accuracy, Precision, Recall:\n"
     ]
    },
    {
     "name": "stderr",
     "output_type": "stream",
     "text": [
      "C:\\Users\\Levi\\Anaconda3\\lib\\site-packages\\sklearn\\metrics\\classification.py:1437: UndefinedMetricWarning: Precision is ill-defined and being set to 0.0 in labels with no predicted samples.\n",
      "  'precision', 'predicted', average, warn_for)\n",
      "C:\\Users\\Levi\\Anaconda3\\lib\\site-packages\\sklearn\\metrics\\classification.py:1437: UndefinedMetricWarning: Precision is ill-defined and being set to 0.0 in labels with no predicted samples.\n",
      "  'precision', 'predicted', average, warn_for)\n",
      "C:\\Users\\Levi\\Anaconda3\\lib\\site-packages\\sklearn\\metrics\\classification.py:1439: UndefinedMetricWarning: Recall is ill-defined and being set to 0.0 in labels with no true samples.\n",
      "  'recall', 'true', average, warn_for)\n",
      "C:\\Users\\Levi\\Anaconda3\\lib\\site-packages\\sklearn\\metrics\\classification.py:1439: UndefinedMetricWarning: Recall is ill-defined and being set to 0.0 in labels with no true samples.\n",
      "  'recall', 'true', average, warn_for)\n"
     ]
    },
    {
     "data": {
      "image/png": "[encoded data removed]",
      "text/plain": [
       "<Figure size 432x288 with 1 Axes>"
      ]
     },
     "metadata": {
      "needs_background": "light"
     },
     "output_type": "display_data"
    },
    {
     "data": {
      "image/png": "[encoded data removed]",
      "text/plain": [
       "<Figure size 432x288 with 1 Axes>"
      ]
     },
     "metadata": {
      "needs_background": "light"
     },
     "output_type": "display_data"
    },
    {
     "data": {
      "image/png": "[encoded data removed]",
      "text/plain": [
       "<Figure size 432x288 with 1 Axes>"
      ]
     },
     "metadata": {
      "needs_background": "light"
     },
     "output_type": "display_data"
    }
   ],
   "source": [
    "def main():\n",
    "    df_input = read_file()\n",
    "    df_feat_train, df_feat_test, df_class_train, df_class_test = train_test_split(df_input.iloc[:,1:8],df_input.iloc[:,8], test_size=0.2, random_state=1)\n",
    "    \n",
    "    #decision Tree\n",
    "    cls_algDT = DecisionTreeClassifier()\n",
    "    cls_treeDT = cls_algDT.fit(df_feat_train, df_class_train)\n",
    "    cls_algDT = cls_algDT.fit(df_feat_train, df_class_train)\n",
    "    df_class_predDT = cls_treeDT.predict(df_feat_test)\n",
    "    \n",
    "    confusion_matrix = metrics.confusion_matrix(df_class_test, df_class_predDT)\n",
    "    print(\"Confusion Matrix\")\n",
    "    print(confusion_matrix)\n",
    "\n",
    "    \n",
    "    #naive bayes\n",
    "    cls_algGNB = GaussianNB()\n",
    "    cls_modelGNB = cls_algGNB.fit(df_feat_train, df_class_train)\n",
    "    df_class_predGNB = cls_modelGNB.predict(df_feat_test)\n",
    "    \n",
    "    confusion_matrix = metrics.confusion_matrix(df_class_test, df_class_predGNB)\n",
    "    print(\"Confusion Matrix\")\n",
    "    print(confusion_matrix)\n",
    "\n",
    "    #neural network\n",
    "    cls_algNN = mlp(solver='lbfgs', random_state = 1, activation='relu')\n",
    "    cls_modelNN = cls_algNN.fit(df_feat_train, df_class_train)\n",
    "    df_class_predNN = cls_modelNN.predict(df_feat_test)\n",
    "\n",
    "    confusion_matrix = metrics.confusion_matrix(df_class_test, df_class_predNN)\n",
    "    print(\"Confusion Matrix\")\n",
    "    print(confusion_matrix)    \n",
    "    \n",
    "    #SVM\n",
    "    cls_algSVM = svm.SVC(gamma='auto')\n",
    "    cls_modelSVM = cls_algSVM.fit(df_feat_train, df_class_train)\n",
    "    df_class_predSVM = cls_algSVM.predict(df_feat_test)\n",
    "    \n",
    "    confusion_matrix = metrics.confusion_matrix(df_class_test, df_class_predSVM)\n",
    "    print(\"Confusion Matrix\")\n",
    "    print(confusion_matrix)   \n",
    "    \n",
    "    #Accuracy\n",
    "    print(\"\")\n",
    "    acc_DT = metrics.accuracy_score(df_class_test, df_class_predDT)\n",
    "    print(\"Accuracy for Decision Tree\")\n",
    "    print(acc_DT)\n",
    "    print(\"\")\n",
    "    acc_GNB = metrics.accuracy_score(df_class_test, df_class_predGNB)\n",
    "    print(\"Accuracy for Naive Bayes\")\n",
    "    print(acc_GNB)\n",
    "    print(\"\")\n",
    "    acc_NN = metrics.accuracy_score(df_class_test, df_class_predNN)\n",
    "    print(\"Accuracy for Neural Network\")\n",
    "    print(acc_NN)\n",
    "    print(\"\")\n",
    "    acc_SVM = metrics.accuracy_score(df_class_test, df_class_predSVM)\n",
    "    print(\"Accuracy for SVM\")\n",
    "    print(acc_SVM)\n",
    "    print(\"\")\n",
    "\n",
    "    #Precision\n",
    "    prec_DT = metrics.precision_score(df_class_test, df_class_predDT, average='macro')\n",
    "    print(\"Precision for Decision Tree\")\n",
    "    print(prec_DT)\n",
    "    print(\"\")\n",
    "    prec_GNB = metrics.precision_score(df_class_test, df_class_predGNB, average='macro')\n",
    "    print(\"Precision for Naive Bayes\")\n",
    "    print(prec_GNB)\n",
    "    print(\"\")\n",
    "    prec_NN = metrics.precision_score(df_class_test, df_class_predNN, average='macro')\n",
    "    print(\"Precision for Neural Network\")\n",
    "    print(prec_NN)\n",
    "    print(\"\")\n",
    "    prec_SVM = metrics.precision_score(df_class_test, df_class_predSVM, average='macro')\n",
    "    print(\"Precision for SVM\")\n",
    "    print(prec_SVM)\n",
    "    print(\"\")\n",
    "    \n",
    "    #Recall\n",
    "    rec_DT = metrics.recall_score(df_class_test, df_class_predDT, average='macro')\n",
    "    print(\"Recall for Decision Tree\")\n",
    "    print(rec_DT)\n",
    "    print(\"\")\n",
    "    rec_GNB = metrics.recall_score(df_class_test, df_class_predGNB, average='macro')\n",
    "    print(\"Recall for Naive Bayes\")\n",
    "    print(rec_GNB)\n",
    "    print(\"\")\n",
    "    rec_NN = metrics.recall_score(df_class_test, df_class_predNN, average='macro')\n",
    "    print(\"Recall for Neural Network\")\n",
    "    print(rec_NN)\n",
    "    print(\"\")\n",
    "    rec_SVM = metrics.recall_score(df_class_test, df_class_predSVM, average='macro')\n",
    "    print(\"Recall for SVM\")\n",
    "    print(rec_SVM)\n",
    "    print(\"\")\n",
    "    \n",
    "    #Bar Graphs for Accuracy, Precision, Recall\n",
    "    print(\"Bar Graph for Accuracy, Precision, Recall:\")\n",
    "    bgAccuracy = pd.DataFrame({'Accuracy':['Decision Tree', 'Naive Bayes', 'Neural Network', 'SVM'], 'Values':[acc_DT, acc_GNB, acc_NN, acc_SVM]})\n",
    "    createBG = bgAccuracy.plot.bar(x='Accuracy', y='Values', rot=0)\n",
    "    bgAccuracy = pd.DataFrame({'Precision':['Decision Tree', 'Naive Bayes', 'Neural Network', 'SVM'], 'Values':[prec_DT, prec_GNB, prec_NN, prec_SVM]})\n",
    "    createBG = bgAccuracy.plot.bar(x='Precision', y='Values', rot=0)\n",
    "    bgAccuracy = pd.DataFrame({'Recall':['Decision Tree', 'Naive Bayes', 'Neural Network', 'SVM'], 'Values':[rec_DT, rec_GNB, rec_NN, rec_SVM]})\n",
    "    createBG = bgAccuracy.plot.bar(x='Recall', y='Values', rot=0)\n",
    "    return\n",
    "main()"
   ]
  },
  {
   "cell_type": "code",
   "execution_count": null,
   "metadata": {},
   "outputs": [],
   "source": []
  }
 ],
 "metadata": {
  "kernelspec": {
   "display_name": "Python 3",
   "language": "python",
   "name": "python3"
  },
  "language_info": {
   "codemirror_mode": {
    "name": "ipython",
    "version": 3
   },
   "file_extension": ".py",
   "mimetype": "text/x-python",
   "name": "python",
   "nbconvert_exporter": "python",
   "pygments_lexer": "ipython3",
   "version": "3.7.4"
  }
 },
 "nbformat": 4,
 "nbformat_minor": 2
}
